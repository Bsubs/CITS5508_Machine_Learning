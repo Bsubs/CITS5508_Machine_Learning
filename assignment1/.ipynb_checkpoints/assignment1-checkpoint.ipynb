{
 "cells": [
  {
   "cell_type": "markdown",
   "id": "627eabfe",
   "metadata": {},
   "source": [
    "# 1 Setup"
   ]
  },
  {
   "cell_type": "markdown",
   "id": "66e2d101",
   "metadata": {},
   "source": [
    "Importing a few common modules, ensure MatplotLib plots figures inline and prepare a function to save the figures. \n",
    "\n",
    "Check that Python 3.5 or later is installed"
   ]
  },
  {
   "cell_type": "code",
   "execution_count": 1,
   "id": "560e2c9b",
   "metadata": {},
   "outputs": [],
   "source": [
    "# Python ≥3.5 is required\n",
    "import sys\n",
    "assert sys.version_info >= (3, 5)\n",
    "\n",
    "# Scikit-Learn ≥0.20 is required\n",
    "import sklearn\n",
    "assert sklearn.__version__ >= \"0.20\"\n",
    "\n",
    "# Importing useful libraries\n",
    "import numpy as np\n",
    "import os\n",
    "\n",
    "# To plot pretty figures\n",
    "%matplotlib inline\n",
    "import matplotlib as mpl\n",
    "import matplotlib.pyplot as plt\n",
    "mpl.rc('axes', labelsize=14)\n",
    "mpl.rc('xtick', labelsize=12)\n",
    "mpl.rc('ytick', labelsize=12)\n",
    "\n",
    "# Where to save the figures\n",
    "PROJECT_ROOT_DIR = \".\"\n",
    "IMAGES_PATH = os.path.join(PROJECT_ROOT_DIR, \"images\")\n",
    "os.makedirs(IMAGES_PATH, exist_ok=True)\n",
    "\n",
    "def save_fig(fig_id, tight_layout=True, fig_extension=\"png\", resolution=300):\n",
    "    path = os.path.join(IMAGES_PATH, fig_id + \".\" + fig_extension)\n",
    "    print(\"Saving figure\", fig_id)\n",
    "    if tight_layout:\n",
    "        plt.tight_layout()\n",
    "    plt.savefig(path, format=fig_extension, dpi=resolution)"
   ]
  },
  {
   "cell_type": "markdown",
   "id": "aa31546c",
   "metadata": {},
   "source": [
    "# 2 Binary Classification"
   ]
  },
  {
   "cell_type": "markdown",
   "id": "f9e2c0dc",
   "metadata": {},
   "source": [
    "Read the contents of training.csv and testing.csv. It is assumed that both datasets are present in the root directory of this project"
   ]
  },
  {
   "cell_type": "code",
   "execution_count": 2,
   "id": "f3ca8494",
   "metadata": {},
   "outputs": [],
   "source": [
    "import pandas as pd\n",
    "\n",
    "testing_data = pd.read_csv('testing.csv')\n",
    "training_data = pd.read_csv('training.csv')"
   ]
  },
  {
   "cell_type": "markdown",
   "id": "cbd42eb5",
   "metadata": {},
   "source": [
    "## 2.1 Display the first lines and visualise dataset"
   ]
  },
  {
   "cell_type": "markdown",
   "id": "d40ad8a5",
   "metadata": {},
   "source": [
    "### 2.1.1 Display the Training Dataset"
   ]
  },
  {
   "cell_type": "code",
   "execution_count": 3,
   "id": "e6fa8e9a",
   "metadata": {
    "scrolled": true
   },
   "outputs": [
    {
     "data": {
      "text/html": [
       "<div>\n",
       "<style scoped>\n",
       "    .dataframe tbody tr th:only-of-type {\n",
       "        vertical-align: middle;\n",
       "    }\n",
       "\n",
       "    .dataframe tbody tr th {\n",
       "        vertical-align: top;\n",
       "    }\n",
       "\n",
       "    .dataframe thead th {\n",
       "        text-align: right;\n",
       "    }\n",
       "</style>\n",
       "<table border=\"1\" class=\"dataframe\">\n",
       "  <thead>\n",
       "    <tr style=\"text-align: right;\">\n",
       "      <th></th>\n",
       "      <th>class</th>\n",
       "      <th>b1</th>\n",
       "      <th>b2</th>\n",
       "      <th>b3</th>\n",
       "      <th>b4</th>\n",
       "      <th>b5</th>\n",
       "      <th>b6</th>\n",
       "      <th>b7</th>\n",
       "      <th>b8</th>\n",
       "      <th>b9</th>\n",
       "      <th>...</th>\n",
       "      <th>pred_minus_obs_H_b9</th>\n",
       "      <th>pred_minus_obs_S_b1</th>\n",
       "      <th>pred_minus_obs_S_b2</th>\n",
       "      <th>pred_minus_obs_S_b3</th>\n",
       "      <th>pred_minus_obs_S_b4</th>\n",
       "      <th>pred_minus_obs_S_b5</th>\n",
       "      <th>pred_minus_obs_S_b6</th>\n",
       "      <th>pred_minus_obs_S_b7</th>\n",
       "      <th>pred_minus_obs_S_b8</th>\n",
       "      <th>pred_minus_obs_S_b9</th>\n",
       "    </tr>\n",
       "  </thead>\n",
       "  <tbody>\n",
       "    <tr>\n",
       "      <th>0</th>\n",
       "      <td>d</td>\n",
       "      <td>67</td>\n",
       "      <td>51</td>\n",
       "      <td>68</td>\n",
       "      <td>115</td>\n",
       "      <td>69</td>\n",
       "      <td>111</td>\n",
       "      <td>136</td>\n",
       "      <td>31</td>\n",
       "      <td>67</td>\n",
       "      <td>...</td>\n",
       "      <td>-9.17</td>\n",
       "      <td>-18.27</td>\n",
       "      <td>-1.80</td>\n",
       "      <td>-6.32</td>\n",
       "      <td>-20.88</td>\n",
       "      <td>-1.63</td>\n",
       "      <td>-6.13</td>\n",
       "      <td>-22.56</td>\n",
       "      <td>-5.53</td>\n",
       "      <td>-8.11</td>\n",
       "    </tr>\n",
       "    <tr>\n",
       "      <th>1</th>\n",
       "      <td>s</td>\n",
       "      <td>67</td>\n",
       "      <td>28</td>\n",
       "      <td>51</td>\n",
       "      <td>99</td>\n",
       "      <td>50</td>\n",
       "      <td>97</td>\n",
       "      <td>82</td>\n",
       "      <td>26</td>\n",
       "      <td>59</td>\n",
       "      <td>...</td>\n",
       "      <td>-2.25</td>\n",
       "      <td>-20.13</td>\n",
       "      <td>-2.11</td>\n",
       "      <td>-6.35</td>\n",
       "      <td>-21.94</td>\n",
       "      <td>-1.22</td>\n",
       "      <td>-6.13</td>\n",
       "      <td>-22.20</td>\n",
       "      <td>-3.41</td>\n",
       "      <td>-6.57</td>\n",
       "    </tr>\n",
       "    <tr>\n",
       "      <th>2</th>\n",
       "      <td>s</td>\n",
       "      <td>63</td>\n",
       "      <td>26</td>\n",
       "      <td>50</td>\n",
       "      <td>95</td>\n",
       "      <td>49</td>\n",
       "      <td>91</td>\n",
       "      <td>81</td>\n",
       "      <td>26</td>\n",
       "      <td>57</td>\n",
       "      <td>...</td>\n",
       "      <td>-0.44</td>\n",
       "      <td>-17.64</td>\n",
       "      <td>-1.81</td>\n",
       "      <td>-4.70</td>\n",
       "      <td>-19.39</td>\n",
       "      <td>-0.65</td>\n",
       "      <td>-5.01</td>\n",
       "      <td>-20.89</td>\n",
       "      <td>-3.96</td>\n",
       "      <td>-6.85</td>\n",
       "    </tr>\n",
       "    <tr>\n",
       "      <th>3</th>\n",
       "      <td>d</td>\n",
       "      <td>63</td>\n",
       "      <td>42</td>\n",
       "      <td>63</td>\n",
       "      <td>97</td>\n",
       "      <td>66</td>\n",
       "      <td>108</td>\n",
       "      <td>111</td>\n",
       "      <td>28</td>\n",
       "      <td>59</td>\n",
       "      <td>...</td>\n",
       "      <td>-2.34</td>\n",
       "      <td>-20.20</td>\n",
       "      <td>-1.89</td>\n",
       "      <td>-5.47</td>\n",
       "      <td>-21.65</td>\n",
       "      <td>-0.99</td>\n",
       "      <td>-5.71</td>\n",
       "      <td>-22.19</td>\n",
       "      <td>-3.41</td>\n",
       "      <td>-6.52</td>\n",
       "    </tr>\n",
       "    <tr>\n",
       "      <th>4</th>\n",
       "      <td>s</td>\n",
       "      <td>46</td>\n",
       "      <td>27</td>\n",
       "      <td>50</td>\n",
       "      <td>83</td>\n",
       "      <td>51</td>\n",
       "      <td>90</td>\n",
       "      <td>76</td>\n",
       "      <td>26</td>\n",
       "      <td>56</td>\n",
       "      <td>...</td>\n",
       "      <td>1.25</td>\n",
       "      <td>-18.62</td>\n",
       "      <td>-2.17</td>\n",
       "      <td>-7.11</td>\n",
       "      <td>-21.12</td>\n",
       "      <td>-1.56</td>\n",
       "      <td>-6.35</td>\n",
       "      <td>-22.19</td>\n",
       "      <td>-4.45</td>\n",
       "      <td>-7.32</td>\n",
       "    </tr>\n",
       "  </tbody>\n",
       "</table>\n",
       "<p>5 rows × 28 columns</p>\n",
       "</div>"
      ],
      "text/plain": [
       "  class  b1  b2  b3   b4  b5   b6   b7  b8  b9  ...  pred_minus_obs_H_b9  \\\n",
       "0     d  67  51  68  115  69  111  136  31  67  ...                -9.17   \n",
       "1     s  67  28  51   99  50   97   82  26  59  ...                -2.25   \n",
       "2     s  63  26  50   95  49   91   81  26  57  ...                -0.44   \n",
       "3     d  63  42  63   97  66  108  111  28  59  ...                -2.34   \n",
       "4     s  46  27  50   83  51   90   76  26  56  ...                 1.25   \n",
       "\n",
       "   pred_minus_obs_S_b1  pred_minus_obs_S_b2  pred_minus_obs_S_b3  \\\n",
       "0               -18.27                -1.80                -6.32   \n",
       "1               -20.13                -2.11                -6.35   \n",
       "2               -17.64                -1.81                -4.70   \n",
       "3               -20.20                -1.89                -5.47   \n",
       "4               -18.62                -2.17                -7.11   \n",
       "\n",
       "   pred_minus_obs_S_b4  pred_minus_obs_S_b5  pred_minus_obs_S_b6  \\\n",
       "0               -20.88                -1.63                -6.13   \n",
       "1               -21.94                -1.22                -6.13   \n",
       "2               -19.39                -0.65                -5.01   \n",
       "3               -21.65                -0.99                -5.71   \n",
       "4               -21.12                -1.56                -6.35   \n",
       "\n",
       "   pred_minus_obs_S_b7  pred_minus_obs_S_b8  pred_minus_obs_S_b9  \n",
       "0               -22.56                -5.53                -8.11  \n",
       "1               -22.20                -3.41                -6.57  \n",
       "2               -20.89                -3.96                -6.85  \n",
       "3               -22.19                -3.41                -6.52  \n",
       "4               -22.19                -4.45                -7.32  \n",
       "\n",
       "[5 rows x 28 columns]"
      ]
     },
     "execution_count": 3,
     "metadata": {},
     "output_type": "execute_result"
    }
   ],
   "source": [
    "# Displaying the first 5 rows of the dataset\n",
    "training_data.head()"
   ]
  },
  {
   "cell_type": "code",
   "execution_count": 4,
   "id": "6648f22f",
   "metadata": {},
   "outputs": [
    {
     "data": {
      "text/html": [
       "<div>\n",
       "<style scoped>\n",
       "    .dataframe tbody tr th:only-of-type {\n",
       "        vertical-align: middle;\n",
       "    }\n",
       "\n",
       "    .dataframe tbody tr th {\n",
       "        vertical-align: top;\n",
       "    }\n",
       "\n",
       "    .dataframe thead th {\n",
       "        text-align: right;\n",
       "    }\n",
       "</style>\n",
       "<table border=\"1\" class=\"dataframe\">\n",
       "  <thead>\n",
       "    <tr style=\"text-align: right;\">\n",
       "      <th></th>\n",
       "      <th>b1</th>\n",
       "      <th>b2</th>\n",
       "      <th>b3</th>\n",
       "      <th>b4</th>\n",
       "      <th>b5</th>\n",
       "      <th>b6</th>\n",
       "      <th>b7</th>\n",
       "      <th>b8</th>\n",
       "      <th>b9</th>\n",
       "      <th>pred_minus_obs_H_b1</th>\n",
       "      <th>...</th>\n",
       "      <th>pred_minus_obs_H_b9</th>\n",
       "      <th>pred_minus_obs_S_b1</th>\n",
       "      <th>pred_minus_obs_S_b2</th>\n",
       "      <th>pred_minus_obs_S_b3</th>\n",
       "      <th>pred_minus_obs_S_b4</th>\n",
       "      <th>pred_minus_obs_S_b5</th>\n",
       "      <th>pred_minus_obs_S_b6</th>\n",
       "      <th>pred_minus_obs_S_b7</th>\n",
       "      <th>pred_minus_obs_S_b8</th>\n",
       "      <th>pred_minus_obs_S_b9</th>\n",
       "    </tr>\n",
       "  </thead>\n",
       "  <tbody>\n",
       "    <tr>\n",
       "      <th>count</th>\n",
       "      <td>325.000000</td>\n",
       "      <td>325.000000</td>\n",
       "      <td>325.000000</td>\n",
       "      <td>325.000000</td>\n",
       "      <td>325.000000</td>\n",
       "      <td>325.000000</td>\n",
       "      <td>325.000000</td>\n",
       "      <td>325.000000</td>\n",
       "      <td>325.000000</td>\n",
       "      <td>325.000000</td>\n",
       "      <td>...</td>\n",
       "      <td>325.000000</td>\n",
       "      <td>325.000000</td>\n",
       "      <td>325.000000</td>\n",
       "      <td>325.000000</td>\n",
       "      <td>325.000000</td>\n",
       "      <td>325.000000</td>\n",
       "      <td>325.000000</td>\n",
       "      <td>325.000000</td>\n",
       "      <td>325.000000</td>\n",
       "      <td>325.000000</td>\n",
       "    </tr>\n",
       "    <tr>\n",
       "      <th>mean</th>\n",
       "      <td>58.021538</td>\n",
       "      <td>38.381538</td>\n",
       "      <td>61.467692</td>\n",
       "      <td>96.175385</td>\n",
       "      <td>58.098462</td>\n",
       "      <td>99.196923</td>\n",
       "      <td>85.864615</td>\n",
       "      <td>27.375385</td>\n",
       "      <td>58.880000</td>\n",
       "      <td>55.786769</td>\n",
       "      <td>...</td>\n",
       "      <td>-3.341446</td>\n",
       "      <td>-20.004954</td>\n",
       "      <td>-1.086092</td>\n",
       "      <td>-4.375846</td>\n",
       "      <td>-21.664185</td>\n",
       "      <td>-0.979815</td>\n",
       "      <td>-4.633323</td>\n",
       "      <td>-18.996462</td>\n",
       "      <td>-1.701785</td>\n",
       "      <td>-4.229108</td>\n",
       "    </tr>\n",
       "    <tr>\n",
       "      <th>std</th>\n",
       "      <td>11.705076</td>\n",
       "      <td>14.589516</td>\n",
       "      <td>15.003385</td>\n",
       "      <td>11.120136</td>\n",
       "      <td>10.654920</td>\n",
       "      <td>9.438789</td>\n",
       "      <td>16.642765</td>\n",
       "      <td>7.445316</td>\n",
       "      <td>8.884777</td>\n",
       "      <td>12.347445</td>\n",
       "      <td>...</td>\n",
       "      <td>8.921301</td>\n",
       "      <td>2.908311</td>\n",
       "      <td>1.054544</td>\n",
       "      <td>1.850954</td>\n",
       "      <td>3.594512</td>\n",
       "      <td>0.308081</td>\n",
       "      <td>1.054033</td>\n",
       "      <td>3.307265</td>\n",
       "      <td>1.017594</td>\n",
       "      <td>1.150070</td>\n",
       "    </tr>\n",
       "    <tr>\n",
       "      <th>min</th>\n",
       "      <td>31.000000</td>\n",
       "      <td>23.000000</td>\n",
       "      <td>47.000000</td>\n",
       "      <td>69.000000</td>\n",
       "      <td>43.000000</td>\n",
       "      <td>83.000000</td>\n",
       "      <td>42.000000</td>\n",
       "      <td>19.000000</td>\n",
       "      <td>45.000000</td>\n",
       "      <td>4.950000</td>\n",
       "      <td>...</td>\n",
       "      <td>-58.280000</td>\n",
       "      <td>-26.790000</td>\n",
       "      <td>-5.510000</td>\n",
       "      <td>-10.120000</td>\n",
       "      <td>-34.630000</td>\n",
       "      <td>-1.830000</td>\n",
       "      <td>-7.970000</td>\n",
       "      <td>-29.340000</td>\n",
       "      <td>-6.500000</td>\n",
       "      <td>-8.930000</td>\n",
       "    </tr>\n",
       "    <tr>\n",
       "      <th>25%</th>\n",
       "      <td>50.000000</td>\n",
       "      <td>28.000000</td>\n",
       "      <td>52.000000</td>\n",
       "      <td>89.000000</td>\n",
       "      <td>51.000000</td>\n",
       "      <td>93.000000</td>\n",
       "      <td>73.000000</td>\n",
       "      <td>24.000000</td>\n",
       "      <td>54.000000</td>\n",
       "      <td>48.370000</td>\n",
       "      <td>...</td>\n",
       "      <td>-4.660000</td>\n",
       "      <td>-22.250000</td>\n",
       "      <td>-1.750000</td>\n",
       "      <td>-5.530000</td>\n",
       "      <td>-24.220000</td>\n",
       "      <td>-1.190000</td>\n",
       "      <td>-5.410000</td>\n",
       "      <td>-21.780000</td>\n",
       "      <td>-2.360000</td>\n",
       "      <td>-4.870000</td>\n",
       "    </tr>\n",
       "    <tr>\n",
       "      <th>50%</th>\n",
       "      <td>57.000000</td>\n",
       "      <td>32.000000</td>\n",
       "      <td>55.000000</td>\n",
       "      <td>95.000000</td>\n",
       "      <td>54.000000</td>\n",
       "      <td>96.000000</td>\n",
       "      <td>85.000000</td>\n",
       "      <td>25.000000</td>\n",
       "      <td>57.000000</td>\n",
       "      <td>57.560000</td>\n",
       "      <td>...</td>\n",
       "      <td>-1.250000</td>\n",
       "      <td>-19.950000</td>\n",
       "      <td>-1.030000</td>\n",
       "      <td>-4.490000</td>\n",
       "      <td>-21.040000</td>\n",
       "      <td>-0.990000</td>\n",
       "      <td>-4.670000</td>\n",
       "      <td>-18.870000</td>\n",
       "      <td>-1.650000</td>\n",
       "      <td>-4.150000</td>\n",
       "    </tr>\n",
       "    <tr>\n",
       "      <th>75%</th>\n",
       "      <td>65.000000</td>\n",
       "      <td>43.000000</td>\n",
       "      <td>65.000000</td>\n",
       "      <td>103.000000</td>\n",
       "      <td>63.000000</td>\n",
       "      <td>103.000000</td>\n",
       "      <td>98.000000</td>\n",
       "      <td>27.000000</td>\n",
       "      <td>60.000000</td>\n",
       "      <td>64.120000</td>\n",
       "      <td>...</td>\n",
       "      <td>1.430000</td>\n",
       "      <td>-18.250000</td>\n",
       "      <td>-0.390000</td>\n",
       "      <td>-2.770000</td>\n",
       "      <td>-19.060000</td>\n",
       "      <td>-0.780000</td>\n",
       "      <td>-3.900000</td>\n",
       "      <td>-16.770000</td>\n",
       "      <td>-1.030000</td>\n",
       "      <td>-3.290000</td>\n",
       "    </tr>\n",
       "    <tr>\n",
       "      <th>max</th>\n",
       "      <td>107.000000</td>\n",
       "      <td>91.000000</td>\n",
       "      <td>124.000000</td>\n",
       "      <td>141.000000</td>\n",
       "      <td>100.000000</td>\n",
       "      <td>138.000000</td>\n",
       "      <td>136.000000</td>\n",
       "      <td>84.000000</td>\n",
       "      <td>114.000000</td>\n",
       "      <td>86.080000</td>\n",
       "      <td>...</td>\n",
       "      <td>9.580000</td>\n",
       "      <td>-7.760000</td>\n",
       "      <td>1.780000</td>\n",
       "      <td>1.040000</td>\n",
       "      <td>-12.070000</td>\n",
       "      <td>0.260000</td>\n",
       "      <td>-0.770000</td>\n",
       "      <td>-8.330000</td>\n",
       "      <td>2.580000</td>\n",
       "      <td>-0.590000</td>\n",
       "    </tr>\n",
       "  </tbody>\n",
       "</table>\n",
       "<p>8 rows × 27 columns</p>\n",
       "</div>"
      ],
      "text/plain": [
       "               b1          b2          b3          b4          b5          b6  \\\n",
       "count  325.000000  325.000000  325.000000  325.000000  325.000000  325.000000   \n",
       "mean    58.021538   38.381538   61.467692   96.175385   58.098462   99.196923   \n",
       "std     11.705076   14.589516   15.003385   11.120136   10.654920    9.438789   \n",
       "min     31.000000   23.000000   47.000000   69.000000   43.000000   83.000000   \n",
       "25%     50.000000   28.000000   52.000000   89.000000   51.000000   93.000000   \n",
       "50%     57.000000   32.000000   55.000000   95.000000   54.000000   96.000000   \n",
       "75%     65.000000   43.000000   65.000000  103.000000   63.000000  103.000000   \n",
       "max    107.000000   91.000000  124.000000  141.000000  100.000000  138.000000   \n",
       "\n",
       "               b7          b8          b9  pred_minus_obs_H_b1  ...  \\\n",
       "count  325.000000  325.000000  325.000000           325.000000  ...   \n",
       "mean    85.864615   27.375385   58.880000            55.786769  ...   \n",
       "std     16.642765    7.445316    8.884777            12.347445  ...   \n",
       "min     42.000000   19.000000   45.000000             4.950000  ...   \n",
       "25%     73.000000   24.000000   54.000000            48.370000  ...   \n",
       "50%     85.000000   25.000000   57.000000            57.560000  ...   \n",
       "75%     98.000000   27.000000   60.000000            64.120000  ...   \n",
       "max    136.000000   84.000000  114.000000            86.080000  ...   \n",
       "\n",
       "       pred_minus_obs_H_b9  pred_minus_obs_S_b1  pred_minus_obs_S_b2  \\\n",
       "count           325.000000           325.000000           325.000000   \n",
       "mean             -3.341446           -20.004954            -1.086092   \n",
       "std               8.921301             2.908311             1.054544   \n",
       "min             -58.280000           -26.790000            -5.510000   \n",
       "25%              -4.660000           -22.250000            -1.750000   \n",
       "50%              -1.250000           -19.950000            -1.030000   \n",
       "75%               1.430000           -18.250000            -0.390000   \n",
       "max               9.580000            -7.760000             1.780000   \n",
       "\n",
       "       pred_minus_obs_S_b3  pred_minus_obs_S_b4  pred_minus_obs_S_b5  \\\n",
       "count           325.000000           325.000000           325.000000   \n",
       "mean             -4.375846           -21.664185            -0.979815   \n",
       "std               1.850954             3.594512             0.308081   \n",
       "min             -10.120000           -34.630000            -1.830000   \n",
       "25%              -5.530000           -24.220000            -1.190000   \n",
       "50%              -4.490000           -21.040000            -0.990000   \n",
       "75%              -2.770000           -19.060000            -0.780000   \n",
       "max               1.040000           -12.070000             0.260000   \n",
       "\n",
       "       pred_minus_obs_S_b6  pred_minus_obs_S_b7  pred_minus_obs_S_b8  \\\n",
       "count           325.000000           325.000000           325.000000   \n",
       "mean             -4.633323           -18.996462            -1.701785   \n",
       "std               1.054033             3.307265             1.017594   \n",
       "min              -7.970000           -29.340000            -6.500000   \n",
       "25%              -5.410000           -21.780000            -2.360000   \n",
       "50%              -4.670000           -18.870000            -1.650000   \n",
       "75%              -3.900000           -16.770000            -1.030000   \n",
       "max              -0.770000            -8.330000             2.580000   \n",
       "\n",
       "       pred_minus_obs_S_b9  \n",
       "count           325.000000  \n",
       "mean             -4.229108  \n",
       "std               1.150070  \n",
       "min              -8.930000  \n",
       "25%              -4.870000  \n",
       "50%              -4.150000  \n",
       "75%              -3.290000  \n",
       "max              -0.590000  \n",
       "\n",
       "[8 rows x 27 columns]"
      ]
     },
     "execution_count": 4,
     "metadata": {},
     "output_type": "execute_result"
    }
   ],
   "source": [
    "training_data.describe()"
   ]
  },
  {
   "cell_type": "markdown",
   "id": "e4e0d3f7",
   "metadata": {},
   "source": [
    "**TO DO describe the cells below** - watch the lecture on this part?"
   ]
  },
  {
   "cell_type": "markdown",
   "id": "979b59bc",
   "metadata": {},
   "source": [
    "### 2.1.2 Displaying the Testing Dataset"
   ]
  },
  {
   "cell_type": "code",
   "execution_count": 5,
   "id": "94335a84",
   "metadata": {
    "scrolled": false
   },
   "outputs": [
    {
     "data": {
      "text/html": [
       "<div>\n",
       "<style scoped>\n",
       "    .dataframe tbody tr th:only-of-type {\n",
       "        vertical-align: middle;\n",
       "    }\n",
       "\n",
       "    .dataframe tbody tr th {\n",
       "        vertical-align: top;\n",
       "    }\n",
       "\n",
       "    .dataframe thead th {\n",
       "        text-align: right;\n",
       "    }\n",
       "</style>\n",
       "<table border=\"1\" class=\"dataframe\">\n",
       "  <thead>\n",
       "    <tr style=\"text-align: right;\">\n",
       "      <th></th>\n",
       "      <th>class</th>\n",
       "      <th>b1</th>\n",
       "      <th>b2</th>\n",
       "      <th>b3</th>\n",
       "      <th>b4</th>\n",
       "      <th>b5</th>\n",
       "      <th>b6</th>\n",
       "      <th>b7</th>\n",
       "      <th>b8</th>\n",
       "      <th>b9</th>\n",
       "      <th>...</th>\n",
       "      <th>pred_minus_obs_H_b9</th>\n",
       "      <th>pred_minus_obs_S_b1</th>\n",
       "      <th>pred_minus_obs_S_b2</th>\n",
       "      <th>pred_minus_obs_S_b3</th>\n",
       "      <th>pred_minus_obs_S_b4</th>\n",
       "      <th>pred_minus_obs_S_b5</th>\n",
       "      <th>pred_minus_obs_S_b6</th>\n",
       "      <th>pred_minus_obs_S_b7</th>\n",
       "      <th>pred_minus_obs_S_b8</th>\n",
       "      <th>pred_minus_obs_S_b9</th>\n",
       "    </tr>\n",
       "  </thead>\n",
       "  <tbody>\n",
       "    <tr>\n",
       "      <th>0</th>\n",
       "      <td>d</td>\n",
       "      <td>39</td>\n",
       "      <td>36</td>\n",
       "      <td>57</td>\n",
       "      <td>91</td>\n",
       "      <td>59</td>\n",
       "      <td>101</td>\n",
       "      <td>93</td>\n",
       "      <td>27</td>\n",
       "      <td>60</td>\n",
       "      <td>...</td>\n",
       "      <td>-2.36</td>\n",
       "      <td>-18.41</td>\n",
       "      <td>-1.88</td>\n",
       "      <td>-6.43</td>\n",
       "      <td>-21.03</td>\n",
       "      <td>-1.60</td>\n",
       "      <td>-6.18</td>\n",
       "      <td>-22.50</td>\n",
       "      <td>-5.20</td>\n",
       "      <td>-7.86</td>\n",
       "    </tr>\n",
       "    <tr>\n",
       "      <th>1</th>\n",
       "      <td>h</td>\n",
       "      <td>84</td>\n",
       "      <td>30</td>\n",
       "      <td>57</td>\n",
       "      <td>112</td>\n",
       "      <td>51</td>\n",
       "      <td>98</td>\n",
       "      <td>92</td>\n",
       "      <td>26</td>\n",
       "      <td>62</td>\n",
       "      <td>...</td>\n",
       "      <td>-2.26</td>\n",
       "      <td>-16.27</td>\n",
       "      <td>-1.95</td>\n",
       "      <td>-6.25</td>\n",
       "      <td>-18.79</td>\n",
       "      <td>-1.99</td>\n",
       "      <td>-6.18</td>\n",
       "      <td>-23.41</td>\n",
       "      <td>-8.87</td>\n",
       "      <td>-10.83</td>\n",
       "    </tr>\n",
       "    <tr>\n",
       "      <th>2</th>\n",
       "      <td>s</td>\n",
       "      <td>53</td>\n",
       "      <td>25</td>\n",
       "      <td>49</td>\n",
       "      <td>99</td>\n",
       "      <td>51</td>\n",
       "      <td>93</td>\n",
       "      <td>84</td>\n",
       "      <td>26</td>\n",
       "      <td>58</td>\n",
       "      <td>...</td>\n",
       "      <td>-1.46</td>\n",
       "      <td>-15.92</td>\n",
       "      <td>-1.79</td>\n",
       "      <td>-4.64</td>\n",
       "      <td>-17.73</td>\n",
       "      <td>-0.48</td>\n",
       "      <td>-4.69</td>\n",
       "      <td>-19.97</td>\n",
       "      <td>-4.10</td>\n",
       "      <td>-7.07</td>\n",
       "    </tr>\n",
       "    <tr>\n",
       "      <th>3</th>\n",
       "      <td>s</td>\n",
       "      <td>59</td>\n",
       "      <td>26</td>\n",
       "      <td>49</td>\n",
       "      <td>103</td>\n",
       "      <td>47</td>\n",
       "      <td>92</td>\n",
       "      <td>82</td>\n",
       "      <td>25</td>\n",
       "      <td>56</td>\n",
       "      <td>...</td>\n",
       "      <td>2.68</td>\n",
       "      <td>-13.77</td>\n",
       "      <td>-2.53</td>\n",
       "      <td>-6.34</td>\n",
       "      <td>-22.03</td>\n",
       "      <td>-2.34</td>\n",
       "      <td>-6.60</td>\n",
       "      <td>-27.10</td>\n",
       "      <td>-7.99</td>\n",
       "      <td>-10.81</td>\n",
       "    </tr>\n",
       "    <tr>\n",
       "      <th>4</th>\n",
       "      <td>d</td>\n",
       "      <td>57</td>\n",
       "      <td>49</td>\n",
       "      <td>66</td>\n",
       "      <td>103</td>\n",
       "      <td>64</td>\n",
       "      <td>106</td>\n",
       "      <td>114</td>\n",
       "      <td>28</td>\n",
       "      <td>59</td>\n",
       "      <td>...</td>\n",
       "      <td>-2.94</td>\n",
       "      <td>-21.74</td>\n",
       "      <td>-1.64</td>\n",
       "      <td>-4.62</td>\n",
       "      <td>-23.74</td>\n",
       "      <td>-0.85</td>\n",
       "      <td>-5.50</td>\n",
       "      <td>-22.83</td>\n",
       "      <td>-2.74</td>\n",
       "      <td>-5.84</td>\n",
       "    </tr>\n",
       "  </tbody>\n",
       "</table>\n",
       "<p>5 rows × 28 columns</p>\n",
       "</div>"
      ],
      "text/plain": [
       "  class  b1  b2  b3   b4  b5   b6   b7  b8  b9  ...  pred_minus_obs_H_b9  \\\n",
       "0     d  39  36  57   91  59  101   93  27  60  ...                -2.36   \n",
       "1     h  84  30  57  112  51   98   92  26  62  ...                -2.26   \n",
       "2     s  53  25  49   99  51   93   84  26  58  ...                -1.46   \n",
       "3     s  59  26  49  103  47   92   82  25  56  ...                 2.68   \n",
       "4     d  57  49  66  103  64  106  114  28  59  ...                -2.94   \n",
       "\n",
       "   pred_minus_obs_S_b1  pred_minus_obs_S_b2  pred_minus_obs_S_b3  \\\n",
       "0               -18.41                -1.88                -6.43   \n",
       "1               -16.27                -1.95                -6.25   \n",
       "2               -15.92                -1.79                -4.64   \n",
       "3               -13.77                -2.53                -6.34   \n",
       "4               -21.74                -1.64                -4.62   \n",
       "\n",
       "   pred_minus_obs_S_b4  pred_minus_obs_S_b5  pred_minus_obs_S_b6  \\\n",
       "0               -21.03                -1.60                -6.18   \n",
       "1               -18.79                -1.99                -6.18   \n",
       "2               -17.73                -0.48                -4.69   \n",
       "3               -22.03                -2.34                -6.60   \n",
       "4               -23.74                -0.85                -5.50   \n",
       "\n",
       "   pred_minus_obs_S_b7  pred_minus_obs_S_b8  pred_minus_obs_S_b9  \n",
       "0               -22.50                -5.20                -7.86  \n",
       "1               -23.41                -8.87               -10.83  \n",
       "2               -19.97                -4.10                -7.07  \n",
       "3               -27.10                -7.99               -10.81  \n",
       "4               -22.83                -2.74                -5.84  \n",
       "\n",
       "[5 rows x 28 columns]"
      ]
     },
     "execution_count": 5,
     "metadata": {},
     "output_type": "execute_result"
    }
   ],
   "source": [
    "# Displaying the first 5 rows of the dataset\n",
    "testing_data.head()"
   ]
  },
  {
   "cell_type": "code",
   "execution_count": 6,
   "id": "20d909ee",
   "metadata": {
    "scrolled": true
   },
   "outputs": [
    {
     "data": {
      "text/html": [
       "<div>\n",
       "<style scoped>\n",
       "    .dataframe tbody tr th:only-of-type {\n",
       "        vertical-align: middle;\n",
       "    }\n",
       "\n",
       "    .dataframe tbody tr th {\n",
       "        vertical-align: top;\n",
       "    }\n",
       "\n",
       "    .dataframe thead th {\n",
       "        text-align: right;\n",
       "    }\n",
       "</style>\n",
       "<table border=\"1\" class=\"dataframe\">\n",
       "  <thead>\n",
       "    <tr style=\"text-align: right;\">\n",
       "      <th></th>\n",
       "      <th>b1</th>\n",
       "      <th>b2</th>\n",
       "      <th>b3</th>\n",
       "      <th>b4</th>\n",
       "      <th>b5</th>\n",
       "      <th>b6</th>\n",
       "      <th>b7</th>\n",
       "      <th>b8</th>\n",
       "      <th>b9</th>\n",
       "      <th>pred_minus_obs_H_b1</th>\n",
       "      <th>...</th>\n",
       "      <th>pred_minus_obs_H_b9</th>\n",
       "      <th>pred_minus_obs_S_b1</th>\n",
       "      <th>pred_minus_obs_S_b2</th>\n",
       "      <th>pred_minus_obs_S_b3</th>\n",
       "      <th>pred_minus_obs_S_b4</th>\n",
       "      <th>pred_minus_obs_S_b5</th>\n",
       "      <th>pred_minus_obs_S_b6</th>\n",
       "      <th>pred_minus_obs_S_b7</th>\n",
       "      <th>pred_minus_obs_S_b8</th>\n",
       "      <th>pred_minus_obs_S_b9</th>\n",
       "    </tr>\n",
       "  </thead>\n",
       "  <tbody>\n",
       "    <tr>\n",
       "      <th>count</th>\n",
       "      <td>198.000000</td>\n",
       "      <td>198.000000</td>\n",
       "      <td>198.000000</td>\n",
       "      <td>198.000000</td>\n",
       "      <td>198.000000</td>\n",
       "      <td>198.000000</td>\n",
       "      <td>198.000000</td>\n",
       "      <td>198.000000</td>\n",
       "      <td>198.000000</td>\n",
       "      <td>198.000000</td>\n",
       "      <td>...</td>\n",
       "      <td>198.000000</td>\n",
       "      <td>198.000000</td>\n",
       "      <td>198.000000</td>\n",
       "      <td>198.000000</td>\n",
       "      <td>198.000000</td>\n",
       "      <td>198.000000</td>\n",
       "      <td>198.000000</td>\n",
       "      <td>198.000000</td>\n",
       "      <td>198.000000</td>\n",
       "      <td>198.000000</td>\n",
       "    </tr>\n",
       "    <tr>\n",
       "      <th>mean</th>\n",
       "      <td>62.949495</td>\n",
       "      <td>41.020202</td>\n",
       "      <td>63.676768</td>\n",
       "      <td>101.409091</td>\n",
       "      <td>58.732323</td>\n",
       "      <td>100.651515</td>\n",
       "      <td>90.601010</td>\n",
       "      <td>28.691919</td>\n",
       "      <td>61.116162</td>\n",
       "      <td>50.818889</td>\n",
       "      <td>...</td>\n",
       "      <td>-5.594141</td>\n",
       "      <td>-20.037576</td>\n",
       "      <td>-1.007121</td>\n",
       "      <td>-4.355657</td>\n",
       "      <td>-20.996919</td>\n",
       "      <td>-0.973737</td>\n",
       "      <td>-4.597626</td>\n",
       "      <td>-18.840000</td>\n",
       "      <td>-1.570808</td>\n",
       "      <td>-4.155859</td>\n",
       "    </tr>\n",
       "    <tr>\n",
       "      <th>std</th>\n",
       "      <td>12.779563</td>\n",
       "      <td>17.832543</td>\n",
       "      <td>17.314545</td>\n",
       "      <td>14.804627</td>\n",
       "      <td>12.392648</td>\n",
       "      <td>11.190314</td>\n",
       "      <td>15.588861</td>\n",
       "      <td>8.977752</td>\n",
       "      <td>9.787158</td>\n",
       "      <td>12.842321</td>\n",
       "      <td>...</td>\n",
       "      <td>9.769193</td>\n",
       "      <td>4.948562</td>\n",
       "      <td>1.783671</td>\n",
       "      <td>2.352311</td>\n",
       "      <td>6.490763</td>\n",
       "      <td>0.702619</td>\n",
       "      <td>1.736712</td>\n",
       "      <td>5.251095</td>\n",
       "      <td>1.807792</td>\n",
       "      <td>1.982423</td>\n",
       "    </tr>\n",
       "    <tr>\n",
       "      <th>min</th>\n",
       "      <td>34.000000</td>\n",
       "      <td>25.000000</td>\n",
       "      <td>47.000000</td>\n",
       "      <td>54.000000</td>\n",
       "      <td>44.000000</td>\n",
       "      <td>84.000000</td>\n",
       "      <td>54.000000</td>\n",
       "      <td>21.000000</td>\n",
       "      <td>50.000000</td>\n",
       "      <td>7.660000</td>\n",
       "      <td>...</td>\n",
       "      <td>-53.530000</td>\n",
       "      <td>-32.950000</td>\n",
       "      <td>-8.800000</td>\n",
       "      <td>-11.210000</td>\n",
       "      <td>-40.370000</td>\n",
       "      <td>-3.270000</td>\n",
       "      <td>-8.730000</td>\n",
       "      <td>-34.140000</td>\n",
       "      <td>-8.870000</td>\n",
       "      <td>-10.830000</td>\n",
       "    </tr>\n",
       "    <tr>\n",
       "      <th>25%</th>\n",
       "      <td>54.000000</td>\n",
       "      <td>28.000000</td>\n",
       "      <td>52.000000</td>\n",
       "      <td>92.250000</td>\n",
       "      <td>49.000000</td>\n",
       "      <td>92.000000</td>\n",
       "      <td>80.000000</td>\n",
       "      <td>24.000000</td>\n",
       "      <td>55.000000</td>\n",
       "      <td>40.667500</td>\n",
       "      <td>...</td>\n",
       "      <td>-6.627500</td>\n",
       "      <td>-23.325000</td>\n",
       "      <td>-1.860000</td>\n",
       "      <td>-5.790000</td>\n",
       "      <td>-24.090000</td>\n",
       "      <td>-1.290000</td>\n",
       "      <td>-5.747500</td>\n",
       "      <td>-22.237500</td>\n",
       "      <td>-2.370000</td>\n",
       "      <td>-5.122500</td>\n",
       "    </tr>\n",
       "    <tr>\n",
       "      <th>50%</th>\n",
       "      <td>60.000000</td>\n",
       "      <td>31.500000</td>\n",
       "      <td>57.000000</td>\n",
       "      <td>99.500000</td>\n",
       "      <td>55.000000</td>\n",
       "      <td>98.000000</td>\n",
       "      <td>91.000000</td>\n",
       "      <td>25.000000</td>\n",
       "      <td>58.000000</td>\n",
       "      <td>53.030000</td>\n",
       "      <td>...</td>\n",
       "      <td>-2.255000</td>\n",
       "      <td>-20.020000</td>\n",
       "      <td>-0.970000</td>\n",
       "      <td>-4.350000</td>\n",
       "      <td>-20.465000</td>\n",
       "      <td>-0.945000</td>\n",
       "      <td>-4.540000</td>\n",
       "      <td>-19.200000</td>\n",
       "      <td>-1.420000</td>\n",
       "      <td>-4.125000</td>\n",
       "    </tr>\n",
       "    <tr>\n",
       "      <th>75%</th>\n",
       "      <td>70.750000</td>\n",
       "      <td>50.750000</td>\n",
       "      <td>69.000000</td>\n",
       "      <td>111.750000</td>\n",
       "      <td>65.000000</td>\n",
       "      <td>107.000000</td>\n",
       "      <td>101.000000</td>\n",
       "      <td>27.000000</td>\n",
       "      <td>63.000000</td>\n",
       "      <td>59.920000</td>\n",
       "      <td>...</td>\n",
       "      <td>0.247500</td>\n",
       "      <td>-17.787500</td>\n",
       "      <td>-0.042500</td>\n",
       "      <td>-2.882500</td>\n",
       "      <td>-17.955000</td>\n",
       "      <td>-0.642500</td>\n",
       "      <td>-3.617500</td>\n",
       "      <td>-16.227500</td>\n",
       "      <td>-0.655000</td>\n",
       "      <td>-3.105000</td>\n",
       "    </tr>\n",
       "    <tr>\n",
       "      <th>max</th>\n",
       "      <td>105.000000</td>\n",
       "      <td>160.000000</td>\n",
       "      <td>196.000000</td>\n",
       "      <td>172.000000</td>\n",
       "      <td>98.000000</td>\n",
       "      <td>136.000000</td>\n",
       "      <td>139.000000</td>\n",
       "      <td>82.000000</td>\n",
       "      <td>109.000000</td>\n",
       "      <td>83.320000</td>\n",
       "      <td>...</td>\n",
       "      <td>5.740000</td>\n",
       "      <td>5.130000</td>\n",
       "      <td>12.460000</td>\n",
       "      <td>7.370000</td>\n",
       "      <td>1.880000</td>\n",
       "      <td>3.440000</td>\n",
       "      <td>3.940000</td>\n",
       "      <td>3.670000</td>\n",
       "      <td>8.840000</td>\n",
       "      <td>7.790000</td>\n",
       "    </tr>\n",
       "  </tbody>\n",
       "</table>\n",
       "<p>8 rows × 27 columns</p>\n",
       "</div>"
      ],
      "text/plain": [
       "               b1          b2          b3          b4          b5          b6  \\\n",
       "count  198.000000  198.000000  198.000000  198.000000  198.000000  198.000000   \n",
       "mean    62.949495   41.020202   63.676768  101.409091   58.732323  100.651515   \n",
       "std     12.779563   17.832543   17.314545   14.804627   12.392648   11.190314   \n",
       "min     34.000000   25.000000   47.000000   54.000000   44.000000   84.000000   \n",
       "25%     54.000000   28.000000   52.000000   92.250000   49.000000   92.000000   \n",
       "50%     60.000000   31.500000   57.000000   99.500000   55.000000   98.000000   \n",
       "75%     70.750000   50.750000   69.000000  111.750000   65.000000  107.000000   \n",
       "max    105.000000  160.000000  196.000000  172.000000   98.000000  136.000000   \n",
       "\n",
       "               b7          b8          b9  pred_minus_obs_H_b1  ...  \\\n",
       "count  198.000000  198.000000  198.000000           198.000000  ...   \n",
       "mean    90.601010   28.691919   61.116162            50.818889  ...   \n",
       "std     15.588861    8.977752    9.787158            12.842321  ...   \n",
       "min     54.000000   21.000000   50.000000             7.660000  ...   \n",
       "25%     80.000000   24.000000   55.000000            40.667500  ...   \n",
       "50%     91.000000   25.000000   58.000000            53.030000  ...   \n",
       "75%    101.000000   27.000000   63.000000            59.920000  ...   \n",
       "max    139.000000   82.000000  109.000000            83.320000  ...   \n",
       "\n",
       "       pred_minus_obs_H_b9  pred_minus_obs_S_b1  pred_minus_obs_S_b2  \\\n",
       "count           198.000000           198.000000           198.000000   \n",
       "mean             -5.594141           -20.037576            -1.007121   \n",
       "std               9.769193             4.948562             1.783671   \n",
       "min             -53.530000           -32.950000            -8.800000   \n",
       "25%              -6.627500           -23.325000            -1.860000   \n",
       "50%              -2.255000           -20.020000            -0.970000   \n",
       "75%               0.247500           -17.787500            -0.042500   \n",
       "max               5.740000             5.130000            12.460000   \n",
       "\n",
       "       pred_minus_obs_S_b3  pred_minus_obs_S_b4  pred_minus_obs_S_b5  \\\n",
       "count           198.000000           198.000000           198.000000   \n",
       "mean             -4.355657           -20.996919            -0.973737   \n",
       "std               2.352311             6.490763             0.702619   \n",
       "min             -11.210000           -40.370000            -3.270000   \n",
       "25%              -5.790000           -24.090000            -1.290000   \n",
       "50%              -4.350000           -20.465000            -0.945000   \n",
       "75%              -2.882500           -17.955000            -0.642500   \n",
       "max               7.370000             1.880000             3.440000   \n",
       "\n",
       "       pred_minus_obs_S_b6  pred_minus_obs_S_b7  pred_minus_obs_S_b8  \\\n",
       "count           198.000000           198.000000           198.000000   \n",
       "mean             -4.597626           -18.840000            -1.570808   \n",
       "std               1.736712             5.251095             1.807792   \n",
       "min              -8.730000           -34.140000            -8.870000   \n",
       "25%              -5.747500           -22.237500            -2.370000   \n",
       "50%              -4.540000           -19.200000            -1.420000   \n",
       "75%              -3.617500           -16.227500            -0.655000   \n",
       "max               3.940000             3.670000             8.840000   \n",
       "\n",
       "       pred_minus_obs_S_b9  \n",
       "count           198.000000  \n",
       "mean             -4.155859  \n",
       "std               1.982423  \n",
       "min             -10.830000  \n",
       "25%              -5.122500  \n",
       "50%              -4.125000  \n",
       "75%              -3.105000  \n",
       "max               7.790000  \n",
       "\n",
       "[8 rows x 27 columns]"
      ]
     },
     "execution_count": 6,
     "metadata": {},
     "output_type": "execute_result"
    }
   ],
   "source": [
    "testing_data.describe()"
   ]
  },
  {
   "cell_type": "markdown",
   "id": "3b8ae8b1",
   "metadata": {},
   "source": [
    "## 2.2 Simplifying the Classification Task"
   ]
  },
  {
   "cell_type": "markdown",
   "id": "7b5eb556",
   "metadata": {},
   "source": [
    "In order to simplify the classification task, the following scripts will delete all columns whose names begins with pred_minus_obs. This will leave 9 columns (features) for the training and test sets. "
   ]
  },
  {
   "cell_type": "code",
   "execution_count": 7,
   "id": "b3aa09b6",
   "metadata": {},
   "outputs": [],
   "source": [
    "# Defining a function that allows us to drop all cols that start with a string\n",
    "def drop_cols(dataframe, start_string):\n",
    "    cols = list(dataframe) # create a list of dataframe columns\n",
    "    for i in cols:\n",
    "        if i.startswith(start_string):\n",
    "            dataframe.drop(i, axis=1, inplace=True)"
   ]
  },
  {
   "cell_type": "code",
   "execution_count": 8,
   "id": "27e1b312",
   "metadata": {},
   "outputs": [],
   "source": [
    "# Drop the columns from the two datasets \n",
    "drop_cols(training_data, 'pred_minus_obs')\n",
    "drop_cols(testing_data, 'pred_minus_obs')"
   ]
  },
  {
   "cell_type": "code",
   "execution_count": 9,
   "id": "20f49213",
   "metadata": {},
   "outputs": [
    {
     "data": {
      "text/html": [
       "<div>\n",
       "<style scoped>\n",
       "    .dataframe tbody tr th:only-of-type {\n",
       "        vertical-align: middle;\n",
       "    }\n",
       "\n",
       "    .dataframe tbody tr th {\n",
       "        vertical-align: top;\n",
       "    }\n",
       "\n",
       "    .dataframe thead th {\n",
       "        text-align: right;\n",
       "    }\n",
       "</style>\n",
       "<table border=\"1\" class=\"dataframe\">\n",
       "  <thead>\n",
       "    <tr style=\"text-align: right;\">\n",
       "      <th></th>\n",
       "      <th>class</th>\n",
       "      <th>b1</th>\n",
       "      <th>b2</th>\n",
       "      <th>b3</th>\n",
       "      <th>b4</th>\n",
       "      <th>b5</th>\n",
       "      <th>b6</th>\n",
       "      <th>b7</th>\n",
       "      <th>b8</th>\n",
       "      <th>b9</th>\n",
       "    </tr>\n",
       "  </thead>\n",
       "  <tbody>\n",
       "    <tr>\n",
       "      <th>0</th>\n",
       "      <td>d</td>\n",
       "      <td>67</td>\n",
       "      <td>51</td>\n",
       "      <td>68</td>\n",
       "      <td>115</td>\n",
       "      <td>69</td>\n",
       "      <td>111</td>\n",
       "      <td>136</td>\n",
       "      <td>31</td>\n",
       "      <td>67</td>\n",
       "    </tr>\n",
       "    <tr>\n",
       "      <th>1</th>\n",
       "      <td>s</td>\n",
       "      <td>67</td>\n",
       "      <td>28</td>\n",
       "      <td>51</td>\n",
       "      <td>99</td>\n",
       "      <td>50</td>\n",
       "      <td>97</td>\n",
       "      <td>82</td>\n",
       "      <td>26</td>\n",
       "      <td>59</td>\n",
       "    </tr>\n",
       "    <tr>\n",
       "      <th>2</th>\n",
       "      <td>s</td>\n",
       "      <td>63</td>\n",
       "      <td>26</td>\n",
       "      <td>50</td>\n",
       "      <td>95</td>\n",
       "      <td>49</td>\n",
       "      <td>91</td>\n",
       "      <td>81</td>\n",
       "      <td>26</td>\n",
       "      <td>57</td>\n",
       "    </tr>\n",
       "    <tr>\n",
       "      <th>3</th>\n",
       "      <td>d</td>\n",
       "      <td>63</td>\n",
       "      <td>42</td>\n",
       "      <td>63</td>\n",
       "      <td>97</td>\n",
       "      <td>66</td>\n",
       "      <td>108</td>\n",
       "      <td>111</td>\n",
       "      <td>28</td>\n",
       "      <td>59</td>\n",
       "    </tr>\n",
       "    <tr>\n",
       "      <th>4</th>\n",
       "      <td>s</td>\n",
       "      <td>46</td>\n",
       "      <td>27</td>\n",
       "      <td>50</td>\n",
       "      <td>83</td>\n",
       "      <td>51</td>\n",
       "      <td>90</td>\n",
       "      <td>76</td>\n",
       "      <td>26</td>\n",
       "      <td>56</td>\n",
       "    </tr>\n",
       "  </tbody>\n",
       "</table>\n",
       "</div>"
      ],
      "text/plain": [
       "  class  b1  b2  b3   b4  b5   b6   b7  b8  b9\n",
       "0     d  67  51  68  115  69  111  136  31  67\n",
       "1     s  67  28  51   99  50   97   82  26  59\n",
       "2     s  63  26  50   95  49   91   81  26  57\n",
       "3     d  63  42  63   97  66  108  111  28  59\n",
       "4     s  46  27  50   83  51   90   76  26  56"
      ]
     },
     "execution_count": 9,
     "metadata": {},
     "output_type": "execute_result"
    }
   ],
   "source": [
    "training_data.head()"
   ]
  },
  {
   "cell_type": "markdown",
   "id": "59823ad6",
   "metadata": {},
   "source": [
    "## 2.3 Visualizing the Data"
   ]
  },
  {
   "cell_type": "markdown",
   "id": "651a60c3",
   "metadata": {},
   "source": [
    "### 2.3.1 Visualizing the Training Set"
   ]
  },
  {
   "cell_type": "code",
   "execution_count": 10,
   "id": "de76e62c",
   "metadata": {},
   "outputs": [
    {
     "name": "stdout",
     "output_type": "stream",
     "text": [
      "Saving figure attribute_histogram_plots_training\n"
     ]
    },
    {
     "data": {
      "image/png": "[encoded data removed]",
      "text/plain": [
       "<Figure size 2000x1500 with 9 Axes>"
      ]
     },
     "metadata": {},
     "output_type": "display_data"
    }
   ],
   "source": [
    "# Plotting the different attributes/columns in the dataset\n",
    "\n",
    "%matplotlib inline\n",
    "import matplotlib.pyplot as plt\n",
    "training_data.hist(bins=50, figsize=(20,15))\n",
    "save_fig(\"attribute_histogram_plots_training\")\n",
    "plt.show()"
   ]
  },
  {
   "cell_type": "markdown",
   "id": "82c80df2",
   "metadata": {},
   "source": [
    "The majority of the histograms for each attribute are bell shaped. However, each arrtibute is skewed either to the left or the right."
   ]
  },
  {
   "cell_type": "markdown",
   "id": "98b9dd96",
   "metadata": {},
   "source": [
    "### Visualizing the Testing Set"
   ]
  },
  {
   "cell_type": "code",
   "execution_count": 11,
   "id": "5b912b35",
   "metadata": {},
   "outputs": [
    {
     "name": "stdout",
     "output_type": "stream",
     "text": [
      "Saving figure attribute_histogram_plots_testing\n"
     ]
    },
    {
     "data": {
      "image/png": "[encoded data removed]",
      "text/plain": [
       "<Figure size 2000x1500 with 9 Axes>"
      ]
     },
     "metadata": {},
     "output_type": "display_data"
    }
   ],
   "source": [
    "# Plotting the different attributes/columns in the dataset\n",
    "\n",
    "%matplotlib inline\n",
    "import matplotlib.pyplot as plt\n",
    "testing_data.hist(bins=50, figsize=(20,15))\n",
    "save_fig(\"attribute_histogram_plots_testing\")\n",
    "plt.show()"
   ]
  },
  {
   "cell_type": "markdown",
   "id": "a3b57109",
   "metadata": {},
   "source": [
    "## 2.4 Counting Instances"
   ]
  },
  {
   "cell_type": "markdown",
   "id": "004fef9d",
   "metadata": {},
   "source": [
    "The following code counts the number of instances for each class label in order to determine if we have a balanced dataset. We can view the output of the count_instances() function to determine the number of non-null instances in the dataset.\n",
    "\n",
    "It can be observed that the training data has an abundance of values for the s and d class label but a significantly lower proportion for values in the o and h class label.\n",
    "\n",
    "The testing data is more balanced in terms of s, d and h. However, it is also lacking in values for o. "
   ]
  },
  {
   "cell_type": "code",
   "execution_count": 12,
   "id": "cd66dedf",
   "metadata": {},
   "outputs": [
    {
     "data": {
      "text/plain": [
       "s    59\n",
       "d    54\n",
       "h    48\n",
       "o    37\n",
       "Name: class, dtype: int64"
      ]
     },
     "execution_count": 12,
     "metadata": {},
     "output_type": "execute_result"
    }
   ],
   "source": [
    "testing_data[\"class\"].value_counts()"
   ]
  },
  {
   "cell_type": "code",
   "execution_count": 13,
   "id": "a5b3cbde",
   "metadata": {},
   "outputs": [
    {
     "data": {
      "text/plain": [
       "s    136\n",
       "d    105\n",
       "o     46\n",
       "h     38\n",
       "Name: class, dtype: int64"
      ]
     },
     "execution_count": 13,
     "metadata": {},
     "output_type": "execute_result"
    }
   ],
   "source": [
    "training_data[\"class\"].value_counts()"
   ]
  },
  {
   "cell_type": "markdown",
   "id": "2a30bedf",
   "metadata": {},
   "source": [
    "## 2.5 Feature Scaling"
   ]
  },
  {
   "cell_type": "markdown",
   "id": "14d63590",
   "metadata": {},
   "source": [
    "The following code performs appropirate feature scaling on the datasets before doing the classification. The StandardScaler function from the sklearn.preprocessing package is used for this purpose. Standardization scales the data to have a mean value of 0 and standard deviation of 1. This makes it more useful for the classification tasks that we are about to attempt."
   ]
  },
  {
   "cell_type": "code",
   "execution_count": 14,
   "id": "6a91b12c",
   "metadata": {},
   "outputs": [],
   "source": [
    "from sklearn.preprocessing import StandardScaler\n",
    "\n",
    "scaler = StandardScaler()\n",
    "\n",
    "training_num = training_data.drop([\"class\"], axis=1)\n",
    "testing_num = testing_data.drop([\"class\"], axis=1)\n",
    "\n",
    "S_training = scaler.fit_transform(training_num)\n",
    "S_testing = scaler.fit_transform(testing_num)\n",
    "\n",
    "# Scaled training data\n",
    "training_X = pd.DataFrame(S_training, columns=training_num.columns)\n",
    "training_y = training_data[\"class\"]\n",
    "\n",
    "# Scaled testing data\n",
    "testing_X = pd.DataFrame(S_testing, columns=testing_num.columns)\n",
    "testing_y = testing_data[\"class\"]"
   ]
  },
  {
   "cell_type": "markdown",
   "id": "d1d425b4",
   "metadata": {},
   "source": [
    "## 2.6 Logistic Regression Classifer "
   ]
  },
  {
   "cell_type": "markdown",
   "id": "caea4b40",
   "metadata": {},
   "source": [
    "In this section we will be using the logistic regression classifier found in sklearn.linear model to perform binary classification using examples from two classes: 's' and 'd'"
   ]
  },
  {
   "cell_type": "code",
   "execution_count": 15,
   "id": "79260650",
   "metadata": {},
   "outputs": [],
   "source": [
    "# This function removes instances of 'o' and 'h' from the dataset\n",
    "\n",
    "def remove_data(setX, setY, label1, label2):\n",
    "    for i in setY.index:\n",
    "        if (setY[i].startswith(label1) or setY[i].startswith(label2)):\n",
    "            setX.drop(i, axis='index', inplace=True)\n",
    "            setY.drop(i, axis='index', inplace=True)\n",
    "    return setX, setY"
   ]
  },
  {
   "cell_type": "code",
   "execution_count": 16,
   "id": "b49980e7",
   "metadata": {},
   "outputs": [],
   "source": [
    "import copy\n",
    "\n",
    "# This function removes all but the feature we want to keep\n",
    "def prep_bin_data(feature, setX):\n",
    "    print(feature)\n",
    "    col1 = copy.deepcopy(setX)\n",
    "    for col in col1.columns:\n",
    "        if col != feature:\n",
    "            drop_cols(col1, col)\n",
    "    return col1"
   ]
  },
  {
   "cell_type": "code",
   "execution_count": 17,
   "id": "e5fe4202",
   "metadata": {},
   "outputs": [],
   "source": [
    "# Removing 'o' and 'h' from the datasets\n",
    "train_X, train_y = remove_data(training_X, training_y, 'o', 'h')\n",
    "test_X, test_y = remove_data(testing_X, testing_y, 'o', 'h')"
   ]
  },
  {
   "cell_type": "markdown",
   "id": "a09c2631",
   "metadata": {},
   "source": [
    "### 2.6.1 Binary Classification using feature b1"
   ]
  },
  {
   "cell_type": "markdown",
   "id": "c2b729b1",
   "metadata": {},
   "source": [
    "This feature was chosen as the values in this data set follow a normal distribution"
   ]
  },
  {
   "cell_type": "code",
   "execution_count": 34,
   "id": "c6c16194",
   "metadata": {},
   "outputs": [
    {
     "name": "stdout",
     "output_type": "stream",
     "text": [
      "b1\n"
     ]
    }
   ],
   "source": [
    "# Removes all other features from the dataset\n",
    "\n",
    "x = prep_bin_data('b1', train_X)"
   ]
  },
  {
   "cell_type": "code",
   "execution_count": 35,
   "id": "925001c3",
   "metadata": {},
   "outputs": [
    {
     "data": {
      "text/html": [
       "<div>\n",
       "<style scoped>\n",
       "    .dataframe tbody tr th:only-of-type {\n",
       "        vertical-align: middle;\n",
       "    }\n",
       "\n",
       "    .dataframe tbody tr th {\n",
       "        vertical-align: top;\n",
       "    }\n",
       "\n",
       "    .dataframe thead th {\n",
       "        text-align: right;\n",
       "    }\n",
       "</style>\n",
       "<table border=\"1\" class=\"dataframe\">\n",
       "  <thead>\n",
       "    <tr style=\"text-align: right;\">\n",
       "      <th></th>\n",
       "      <th>b1</th>\n",
       "    </tr>\n",
       "  </thead>\n",
       "  <tbody>\n",
       "    <tr>\n",
       "      <th>0</th>\n",
       "      <td>0.768240</td>\n",
       "    </tr>\n",
       "    <tr>\n",
       "      <th>1</th>\n",
       "      <td>0.768240</td>\n",
       "    </tr>\n",
       "    <tr>\n",
       "      <th>2</th>\n",
       "      <td>0.425981</td>\n",
       "    </tr>\n",
       "    <tr>\n",
       "      <th>3</th>\n",
       "      <td>0.425981</td>\n",
       "    </tr>\n",
       "    <tr>\n",
       "      <th>4</th>\n",
       "      <td>-1.028620</td>\n",
       "    </tr>\n",
       "  </tbody>\n",
       "</table>\n",
       "</div>"
      ],
      "text/plain": [
       "         b1\n",
       "0  0.768240\n",
       "1  0.768240\n",
       "2  0.425981\n",
       "3  0.425981\n",
       "4 -1.028620"
      ]
     },
     "execution_count": 35,
     "metadata": {},
     "output_type": "execute_result"
    }
   ],
   "source": [
    "x.head()"
   ]
  },
  {
   "cell_type": "code",
   "execution_count": 36,
   "id": "5f88733c",
   "metadata": {},
   "outputs": [
    {
     "data": {
      "text/html": [
       "<style>#sk-container-id-4 {color: black;background-color: white;}#sk-container-id-4 pre{padding: 0;}#sk-container-id-4 div.sk-toggleable {background-color: white;}#sk-container-id-4 label.sk-toggleable__label {cursor: pointer;display: block;width: 100%;margin-bottom: 0;padding: 0.3em;box-sizing: border-box;text-align: center;}#sk-container-id-4 label.sk-toggleable__label-arrow:before {content: \"▸\";float: left;margin-right: 0.25em;color: #696969;}#sk-container-id-4 label.sk-toggleable__label-arrow:hover:before {color: black;}#sk-container-id-4 div.sk-estimator:hover label.sk-toggleable__label-arrow:before {color: black;}#sk-container-id-4 div.sk-toggleable__content {max-height: 0;max-width: 0;overflow: hidden;text-align: left;background-color: #f0f8ff;}#sk-container-id-4 div.sk-toggleable__content pre {margin: 0.2em;color: black;border-radius: 0.25em;background-color: #f0f8ff;}#sk-container-id-4 input.sk-toggleable__control:checked~div.sk-toggleable__content {max-height: 200px;max-width: 100%;overflow: auto;}#sk-container-id-4 input.sk-toggleable__control:checked~label.sk-toggleable__label-arrow:before {content: \"▾\";}#sk-container-id-4 div.sk-estimator input.sk-toggleable__control:checked~label.sk-toggleable__label {background-color: #d4ebff;}#sk-container-id-4 div.sk-label input.sk-toggleable__control:checked~label.sk-toggleable__label {background-color: #d4ebff;}#sk-container-id-4 input.sk-hidden--visually {border: 0;clip: rect(1px 1px 1px 1px);clip: rect(1px, 1px, 1px, 1px);height: 1px;margin: -1px;overflow: hidden;padding: 0;position: absolute;width: 1px;}#sk-container-id-4 div.sk-estimator {font-family: monospace;background-color: #f0f8ff;border: 1px dotted black;border-radius: 0.25em;box-sizing: border-box;margin-bottom: 0.5em;}#sk-container-id-4 div.sk-estimator:hover {background-color: #d4ebff;}#sk-container-id-4 div.sk-parallel-item::after {content: \"\";width: 100%;border-bottom: 1px solid gray;flex-grow: 1;}#sk-container-id-4 div.sk-label:hover label.sk-toggleable__label {background-color: #d4ebff;}#sk-container-id-4 div.sk-serial::before {content: \"\";position: absolute;border-left: 1px solid gray;box-sizing: border-box;top: 0;bottom: 0;left: 50%;z-index: 0;}#sk-container-id-4 div.sk-serial {display: flex;flex-direction: column;align-items: center;background-color: white;padding-right: 0.2em;padding-left: 0.2em;position: relative;}#sk-container-id-4 div.sk-item {position: relative;z-index: 1;}#sk-container-id-4 div.sk-parallel {display: flex;align-items: stretch;justify-content: center;background-color: white;position: relative;}#sk-container-id-4 div.sk-item::before, #sk-container-id-4 div.sk-parallel-item::before {content: \"\";position: absolute;border-left: 1px solid gray;box-sizing: border-box;top: 0;bottom: 0;left: 50%;z-index: -1;}#sk-container-id-4 div.sk-parallel-item {display: flex;flex-direction: column;z-index: 1;position: relative;background-color: white;}#sk-container-id-4 div.sk-parallel-item:first-child::after {align-self: flex-end;width: 50%;}#sk-container-id-4 div.sk-parallel-item:last-child::after {align-self: flex-start;width: 50%;}#sk-container-id-4 div.sk-parallel-item:only-child::after {width: 0;}#sk-container-id-4 div.sk-dashed-wrapped {border: 1px dashed gray;margin: 0 0.4em 0.5em 0.4em;box-sizing: border-box;padding-bottom: 0.4em;background-color: white;}#sk-container-id-4 div.sk-label label {font-family: monospace;font-weight: bold;display: inline-block;line-height: 1.2em;}#sk-container-id-4 div.sk-label-container {text-align: center;}#sk-container-id-4 div.sk-container {/* jupyter's `normalize.less` sets `[hidden] { display: none; }` but bootstrap.min.css set `[hidden] { display: none !important; }` so we also need the `!important` here to be able to override the default hidden behavior on the sphinx rendered scikit-learn.org. See: https://github.com/scikit-learn/scikit-learn/issues/21755 */display: inline-block !important;position: relative;}#sk-container-id-4 div.sk-text-repr-fallback {display: none;}</style><div id=\"sk-container-id-4\" class=\"sk-top-container\"><div class=\"sk-text-repr-fallback\"><pre>LogisticRegression(random_state=42)</pre><b>In a Jupyter environment, please rerun this cell to show the HTML representation or trust the notebook. <br />On GitHub, the HTML representation is unable to render, please try loading this page with nbviewer.org.</b></div><div class=\"sk-container\" hidden><div class=\"sk-item\"><div class=\"sk-estimator sk-toggleable\"><input class=\"sk-toggleable__control sk-hidden--visually\" id=\"sk-estimator-id-4\" type=\"checkbox\" checked><label for=\"sk-estimator-id-4\" class=\"sk-toggleable__label sk-toggleable__label-arrow\">LogisticRegression</label><div class=\"sk-toggleable__content\"><pre>LogisticRegression(random_state=42)</pre></div></div></div></div></div>"
      ],
      "text/plain": [
       "LogisticRegression(random_state=42)"
      ]
     },
     "execution_count": 36,
     "metadata": {},
     "output_type": "execute_result"
    }
   ],
   "source": [
    "from sklearn.linear_model import LogisticRegression\n",
    "\n",
    "log_reg = LogisticRegression(random_state=42)\n",
    "log_reg.fit(x.values, train_y.values)"
   ]
  },
  {
   "cell_type": "code",
   "execution_count": 37,
   "id": "19e991db",
   "metadata": {
    "scrolled": true
   },
   "outputs": [
    {
     "name": "stdout",
     "output_type": "stream",
     "text": [
      "Saving figure logistic_regression_plot\n"
     ]
    },
    {
     "data": {
      "image/png": "[encoded data removed]",
      "text/plain": [
       "<Figure size 800x300 with 1 Axes>"
      ]
     },
     "metadata": {},
     "output_type": "display_data"
    }
   ],
   "source": [
    "X_new = np.linspace(-4, 3, 1000).reshape(-1, 1)  # reshape to get a column vector\n",
    "y_proba = log_reg.predict_proba(X_new)\n",
    "decision_boundary = X_new[y_proba[:, 1] >= 0.5][0, 0]\n",
    "\n",
    "plt.figure(figsize=(8, 3))  # extra code – not needed, just formatting\n",
    "plt.plot(X_new, y_proba[:, 0], \"b--\", linewidth=2,\n",
    "         label=\"Not s proba\")\n",
    "plt.plot(X_new, y_proba[:, 1], \"g-\", linewidth=2, label=\"s proba\")\n",
    "plt.plot([decision_boundary, decision_boundary], [0, 1], \"k:\", linewidth=2,\n",
    "         label=\"Decision boundary\")\n",
    "\n",
    "# extra code – this section beautifies and saves Figure 4–23\n",
    "plt.arrow(x=decision_boundary, y=0.08, dx=-0.3, dy=0,\n",
    "          head_width=0.05, head_length=0.1, fc=\"b\", ec=\"b\")\n",
    "plt.arrow(x=decision_boundary, y=0.92, dx=0.3, dy=0,\n",
    "          head_width=0.05, head_length=0.1, fc=\"g\", ec=\"g\")\n",
    "plt.xlabel(\"b1\")\n",
    "plt.ylabel(\"Probability\")\n",
    "plt.legend(loc=\"center right\")\n",
    "plt.axis([-3, 3, 0, 1])\n",
    "plt.grid()\n",
    "save_fig(\"logistic_regression_plot\")\n",
    "\n",
    "plt.show()"
   ]
  },
  {
   "cell_type": "code",
   "execution_count": 32,
   "id": "c282c019",
   "metadata": {},
   "outputs": [
    {
     "data": {
      "text/plain": [
       "-4.0"
      ]
     },
     "execution_count": 32,
     "metadata": {},
     "output_type": "execute_result"
    }
   ],
   "source": [
    "decision_boundary"
   ]
  },
  {
   "cell_type": "markdown",
   "id": "287a2573",
   "metadata": {},
   "source": [
    "### 2.6.2 Binary Classification using feature b7"
   ]
  },
  {
   "cell_type": "markdown",
   "id": "5a2b42ac",
   "metadata": {},
   "source": [
    "This feature was chosen as the values in this data set follow a normal distribution"
   ]
  },
  {
   "cell_type": "code",
   "execution_count": 23,
   "id": "c0eced8c",
   "metadata": {},
   "outputs": [
    {
     "name": "stdout",
     "output_type": "stream",
     "text": [
      "b7\n"
     ]
    }
   ],
   "source": [
    "# Removes all other features from the dataset\n",
    "\n",
    "x = prep_bin_data('b7', train_X)"
   ]
  },
  {
   "cell_type": "code",
   "execution_count": 24,
   "id": "d3e1fe7e",
   "metadata": {},
   "outputs": [
    {
     "data": {
      "text/plain": [
       "b7   -2.459185\n",
       "dtype: float64"
      ]
     },
     "execution_count": 24,
     "metadata": {},
     "output_type": "execute_result"
    }
   ],
   "source": [
    "x.min()"
   ]
  },
  {
   "cell_type": "code",
   "execution_count": 25,
   "id": "2c72e346",
   "metadata": {},
   "outputs": [
    {
     "data": {
      "text/html": [
       "<style>#sk-container-id-2 {color: black;background-color: white;}#sk-container-id-2 pre{padding: 0;}#sk-container-id-2 div.sk-toggleable {background-color: white;}#sk-container-id-2 label.sk-toggleable__label {cursor: pointer;display: block;width: 100%;margin-bottom: 0;padding: 0.3em;box-sizing: border-box;text-align: center;}#sk-container-id-2 label.sk-toggleable__label-arrow:before {content: \"▸\";float: left;margin-right: 0.25em;color: #696969;}#sk-container-id-2 label.sk-toggleable__label-arrow:hover:before {color: black;}#sk-container-id-2 div.sk-estimator:hover label.sk-toggleable__label-arrow:before {color: black;}#sk-container-id-2 div.sk-toggleable__content {max-height: 0;max-width: 0;overflow: hidden;text-align: left;background-color: #f0f8ff;}#sk-container-id-2 div.sk-toggleable__content pre {margin: 0.2em;color: black;border-radius: 0.25em;background-color: #f0f8ff;}#sk-container-id-2 input.sk-toggleable__control:checked~div.sk-toggleable__content {max-height: 200px;max-width: 100%;overflow: auto;}#sk-container-id-2 input.sk-toggleable__control:checked~label.sk-toggleable__label-arrow:before {content: \"▾\";}#sk-container-id-2 div.sk-estimator input.sk-toggleable__control:checked~label.sk-toggleable__label {background-color: #d4ebff;}#sk-container-id-2 div.sk-label input.sk-toggleable__control:checked~label.sk-toggleable__label {background-color: #d4ebff;}#sk-container-id-2 input.sk-hidden--visually {border: 0;clip: rect(1px 1px 1px 1px);clip: rect(1px, 1px, 1px, 1px);height: 1px;margin: -1px;overflow: hidden;padding: 0;position: absolute;width: 1px;}#sk-container-id-2 div.sk-estimator {font-family: monospace;background-color: #f0f8ff;border: 1px dotted black;border-radius: 0.25em;box-sizing: border-box;margin-bottom: 0.5em;}#sk-container-id-2 div.sk-estimator:hover {background-color: #d4ebff;}#sk-container-id-2 div.sk-parallel-item::after {content: \"\";width: 100%;border-bottom: 1px solid gray;flex-grow: 1;}#sk-container-id-2 div.sk-label:hover label.sk-toggleable__label {background-color: #d4ebff;}#sk-container-id-2 div.sk-serial::before {content: \"\";position: absolute;border-left: 1px solid gray;box-sizing: border-box;top: 0;bottom: 0;left: 50%;z-index: 0;}#sk-container-id-2 div.sk-serial {display: flex;flex-direction: column;align-items: center;background-color: white;padding-right: 0.2em;padding-left: 0.2em;position: relative;}#sk-container-id-2 div.sk-item {position: relative;z-index: 1;}#sk-container-id-2 div.sk-parallel {display: flex;align-items: stretch;justify-content: center;background-color: white;position: relative;}#sk-container-id-2 div.sk-item::before, #sk-container-id-2 div.sk-parallel-item::before {content: \"\";position: absolute;border-left: 1px solid gray;box-sizing: border-box;top: 0;bottom: 0;left: 50%;z-index: -1;}#sk-container-id-2 div.sk-parallel-item {display: flex;flex-direction: column;z-index: 1;position: relative;background-color: white;}#sk-container-id-2 div.sk-parallel-item:first-child::after {align-self: flex-end;width: 50%;}#sk-container-id-2 div.sk-parallel-item:last-child::after {align-self: flex-start;width: 50%;}#sk-container-id-2 div.sk-parallel-item:only-child::after {width: 0;}#sk-container-id-2 div.sk-dashed-wrapped {border: 1px dashed gray;margin: 0 0.4em 0.5em 0.4em;box-sizing: border-box;padding-bottom: 0.4em;background-color: white;}#sk-container-id-2 div.sk-label label {font-family: monospace;font-weight: bold;display: inline-block;line-height: 1.2em;}#sk-container-id-2 div.sk-label-container {text-align: center;}#sk-container-id-2 div.sk-container {/* jupyter's `normalize.less` sets `[hidden] { display: none; }` but bootstrap.min.css set `[hidden] { display: none !important; }` so we also need the `!important` here to be able to override the default hidden behavior on the sphinx rendered scikit-learn.org. See: https://github.com/scikit-learn/scikit-learn/issues/21755 */display: inline-block !important;position: relative;}#sk-container-id-2 div.sk-text-repr-fallback {display: none;}</style><div id=\"sk-container-id-2\" class=\"sk-top-container\"><div class=\"sk-text-repr-fallback\"><pre>LogisticRegression(random_state=42)</pre><b>In a Jupyter environment, please rerun this cell to show the HTML representation or trust the notebook. <br />On GitHub, the HTML representation is unable to render, please try loading this page with nbviewer.org.</b></div><div class=\"sk-container\" hidden><div class=\"sk-item\"><div class=\"sk-estimator sk-toggleable\"><input class=\"sk-toggleable__control sk-hidden--visually\" id=\"sk-estimator-id-2\" type=\"checkbox\" checked><label for=\"sk-estimator-id-2\" class=\"sk-toggleable__label sk-toggleable__label-arrow\">LogisticRegression</label><div class=\"sk-toggleable__content\"><pre>LogisticRegression(random_state=42)</pre></div></div></div></div></div>"
      ],
      "text/plain": [
       "LogisticRegression(random_state=42)"
      ]
     },
     "execution_count": 25,
     "metadata": {},
     "output_type": "execute_result"
    }
   ],
   "source": [
    "from sklearn.linear_model import LogisticRegression\n",
    "\n",
    "log_reg = LogisticRegression(random_state=42)\n",
    "log_reg.fit(x.values, train_y.values)"
   ]
  },
  {
   "cell_type": "code",
   "execution_count": 26,
   "id": "90dcf97e",
   "metadata": {
    "scrolled": true
   },
   "outputs": [
    {
     "name": "stdout",
     "output_type": "stream",
     "text": [
      "Saving figure logistic_regression_plot\n"
     ]
    },
    {
     "data": {
      "image/png": "[encoded data removed]",
      "text/plain": [
       "<Figure size 800x300 with 1 Axes>"
      ]
     },
     "metadata": {},
     "output_type": "display_data"
    }
   ],
   "source": [
    "X_new = np.linspace(-4, 3, 1000).reshape(-1, 1)  # reshape to get a column vector\n",
    "y_proba = log_reg.predict_proba(X_new)\n",
    "decision_boundary = X_new[y_proba[:, 1] >= 0.5][0, 0]\n",
    "\n",
    "plt.figure(figsize=(8, 3))  # extra code – not needed, just formatting\n",
    "plt.plot(X_new, y_proba[:, 0], \"b--\", linewidth=2,\n",
    "         label=\"Not s proba\")\n",
    "plt.plot(X_new, y_proba[:, 1], \"g-\", linewidth=2, label=\"s proba\")\n",
    "plt.plot([decision_boundary, decision_boundary], [0, 1], \"k:\", linewidth=2,\n",
    "         label=\"Decision boundary\")\n",
    "\n",
    "# extra code – this section beautifies and saves Figure 4–23\n",
    "plt.arrow(x=decision_boundary, y=0.08, dx=-0.3, dy=0,\n",
    "          head_width=0.05, head_length=0.1, fc=\"b\", ec=\"b\")\n",
    "plt.arrow(x=decision_boundary, y=0.92, dx=0.3, dy=0,\n",
    "          head_width=0.05, head_length=0.1, fc=\"g\", ec=\"g\")\n",
    "plt.xlabel(\"b7\")\n",
    "plt.ylabel(\"Probability\")\n",
    "plt.legend(loc=\"center right\")\n",
    "plt.axis([-3, 3, 0, 1])\n",
    "plt.grid()\n",
    "save_fig(\"logistic_regression_plot\")\n",
    "\n",
    "plt.show()"
   ]
  },
  {
   "cell_type": "code",
   "execution_count": 27,
   "id": "76ecacb3",
   "metadata": {
    "scrolled": true
   },
   "outputs": [
    {
     "data": {
      "text/plain": [
       "-4.0"
      ]
     },
     "execution_count": 27,
     "metadata": {},
     "output_type": "execute_result"
    }
   ],
   "source": [
    "decision_boundary"
   ]
  },
  {
   "cell_type": "code",
   "execution_count": null,
   "id": "f9d90a7e",
   "metadata": {},
   "outputs": [],
   "source": []
  }
 ],
 "metadata": {
  "kernelspec": {
   "display_name": "Python 3 (ipykernel)",
   "language": "python",
   "name": "python3"
  },
  "language_info": {
   "codemirror_mode": {
    "name": "ipython",
    "version": 3
   },
   "file_extension": ".py",
   "mimetype": "text/x-python",
   "name": "python",
   "nbconvert_exporter": "python",
   "pygments_lexer": "ipython3",
   "version": "3.11.0"
  }
 },
 "nbformat": 4,
 "nbformat_minor": 5
}
